{
  "cells": [
    {
      "cell_type": "code",
      "source": [
        "import nltk\n",
        "nltk.download('punkt')\n",
        "nltk.download('stopwords')"
      ],
      "metadata": {
        "colab": {
          "base_uri": "https://localhost:8080/"
        },
        "id": "oHO3C972DfIV",
        "outputId": "bd2816cd-2693-4cc5-cc8f-81a6c80ac67d"
      },
      "execution_count": 11,
      "outputs": [
        {
          "output_type": "stream",
          "name": "stderr",
          "text": [
            "[nltk_data] Downloading package punkt to /root/nltk_data...\n",
            "[nltk_data]   Unzipping tokenizers/punkt.zip.\n",
            "[nltk_data] Downloading package stopwords to /root/nltk_data...\n",
            "[nltk_data]   Unzipping corpora/stopwords.zip.\n"
          ]
        },
        {
          "output_type": "execute_result",
          "data": {
            "text/plain": [
              "True"
            ]
          },
          "metadata": {},
          "execution_count": 11
        }
      ]
    },
    {
      "cell_type": "code",
      "execution_count": 12,
      "metadata": {
        "id": "uboyI3Cvp3mq"
      },
      "outputs": [],
      "source": [
        "import numpy as np\n",
        "import pandas as pd\n",
        "import nltk\n",
        "import re\n",
        "from nltk.corpus import stopwords\n",
        "from nltk.tokenize import sent_tokenize,word_tokenize\n",
        "from gensim.models import Word2Vec\n",
        "from keras.layers import Embedding, LSTM, Dense, Dropout, Lambda, Flatten\n",
        "from keras.models import Sequential, load_model, model_from_config\n",
        "import keras.backend as K\n",
        "from sklearn.model_selection import train_test_split\n",
        "from sklearn.metrics import mean_squared_error\n",
        "from sklearn.metrics import cohen_kappa_score"
      ]
    },
    {
      "cell_type": "markdown",
      "metadata": {
        "id": "nMeIs5Qwp3mv"
      },
      "source": [
        "**Preparing Dataset**"
      ]
    },
    {
      "cell_type": "code",
      "execution_count": 13,
      "metadata": {
        "id": "OIZKsDLpp3mw"
      },
      "outputs": [],
      "source": [
        "df = pd.read_csv(\"training_set_rel3.tsv\", sep='\\t', encoding='ISO-8859-1');\n",
        "df.dropna(axis=1,inplace=True) #removes missing values\n",
        "df.drop(columns=['domain1_score','rater1_domain1','rater2_domain1'],inplace=True,axis=1) #Drop columns which contain missing value.\n",
        "df.head()\n",
        "temp = pd.read_csv(\"Processed_data.csv\")\n",
        "temp.drop(\"Unnamed: 0\",inplace=True,axis=1)"
      ]
    },
    {
      "cell_type": "code",
      "execution_count": 14,
      "metadata": {
        "id": "zSrnmHyWp3mx",
        "outputId": "a53cdc27-4ac6-4373-cad6-c408258da634",
        "colab": {
          "base_uri": "https://localhost:8080/",
          "height": 206
        }
      },
      "outputs": [
        {
          "output_type": "execute_result",
          "data": {
            "text/plain": [
              "   essay_id  essay_set                                              essay  \\\n",
              "0         1          1  Dear local newspaper, I think effects computer...   \n",
              "1         2          1  Dear @CAPS1 @CAPS2, I believe that using compu...   \n",
              "2         3          1  Dear, @CAPS1 @CAPS2 @CAPS3 More and more peopl...   \n",
              "3         4          1  Dear Local Newspaper, @CAPS1 I have found that...   \n",
              "4         5          1  Dear @LOCATION1, I know having computers has a...   \n",
              "\n",
              "   domain1_score  \n",
              "0              6  \n",
              "1              7  \n",
              "2              5  \n",
              "3              8  \n",
              "4              6  "
            ],
            "text/html": [
              "\n",
              "  <div id=\"df-c6fe8e8f-5d89-463b-ae80-b7faa57b69ce\">\n",
              "    <div class=\"colab-df-container\">\n",
              "      <div>\n",
              "<style scoped>\n",
              "    .dataframe tbody tr th:only-of-type {\n",
              "        vertical-align: middle;\n",
              "    }\n",
              "\n",
              "    .dataframe tbody tr th {\n",
              "        vertical-align: top;\n",
              "    }\n",
              "\n",
              "    .dataframe thead th {\n",
              "        text-align: right;\n",
              "    }\n",
              "</style>\n",
              "<table border=\"1\" class=\"dataframe\">\n",
              "  <thead>\n",
              "    <tr style=\"text-align: right;\">\n",
              "      <th></th>\n",
              "      <th>essay_id</th>\n",
              "      <th>essay_set</th>\n",
              "      <th>essay</th>\n",
              "      <th>domain1_score</th>\n",
              "    </tr>\n",
              "  </thead>\n",
              "  <tbody>\n",
              "    <tr>\n",
              "      <th>0</th>\n",
              "      <td>1</td>\n",
              "      <td>1</td>\n",
              "      <td>Dear local newspaper, I think effects computer...</td>\n",
              "      <td>6</td>\n",
              "    </tr>\n",
              "    <tr>\n",
              "      <th>1</th>\n",
              "      <td>2</td>\n",
              "      <td>1</td>\n",
              "      <td>Dear @CAPS1 @CAPS2, I believe that using compu...</td>\n",
              "      <td>7</td>\n",
              "    </tr>\n",
              "    <tr>\n",
              "      <th>2</th>\n",
              "      <td>3</td>\n",
              "      <td>1</td>\n",
              "      <td>Dear, @CAPS1 @CAPS2 @CAPS3 More and more peopl...</td>\n",
              "      <td>5</td>\n",
              "    </tr>\n",
              "    <tr>\n",
              "      <th>3</th>\n",
              "      <td>4</td>\n",
              "      <td>1</td>\n",
              "      <td>Dear Local Newspaper, @CAPS1 I have found that...</td>\n",
              "      <td>8</td>\n",
              "    </tr>\n",
              "    <tr>\n",
              "      <th>4</th>\n",
              "      <td>5</td>\n",
              "      <td>1</td>\n",
              "      <td>Dear @LOCATION1, I know having computers has a...</td>\n",
              "      <td>6</td>\n",
              "    </tr>\n",
              "  </tbody>\n",
              "</table>\n",
              "</div>\n",
              "      <button class=\"colab-df-convert\" onclick=\"convertToInteractive('df-c6fe8e8f-5d89-463b-ae80-b7faa57b69ce')\"\n",
              "              title=\"Convert this dataframe to an interactive table.\"\n",
              "              style=\"display:none;\">\n",
              "        \n",
              "  <svg xmlns=\"http://www.w3.org/2000/svg\" height=\"24px\"viewBox=\"0 0 24 24\"\n",
              "       width=\"24px\">\n",
              "    <path d=\"M0 0h24v24H0V0z\" fill=\"none\"/>\n",
              "    <path d=\"M18.56 5.44l.94 2.06.94-2.06 2.06-.94-2.06-.94-.94-2.06-.94 2.06-2.06.94zm-11 1L8.5 8.5l.94-2.06 2.06-.94-2.06-.94L8.5 2.5l-.94 2.06-2.06.94zm10 10l.94 2.06.94-2.06 2.06-.94-2.06-.94-.94-2.06-.94 2.06-2.06.94z\"/><path d=\"M17.41 7.96l-1.37-1.37c-.4-.4-.92-.59-1.43-.59-.52 0-1.04.2-1.43.59L10.3 9.45l-7.72 7.72c-.78.78-.78 2.05 0 2.83L4 21.41c.39.39.9.59 1.41.59.51 0 1.02-.2 1.41-.59l7.78-7.78 2.81-2.81c.8-.78.8-2.07 0-2.86zM5.41 20L4 18.59l7.72-7.72 1.47 1.35L5.41 20z\"/>\n",
              "  </svg>\n",
              "      </button>\n",
              "      \n",
              "  <style>\n",
              "    .colab-df-container {\n",
              "      display:flex;\n",
              "      flex-wrap:wrap;\n",
              "      gap: 12px;\n",
              "    }\n",
              "\n",
              "    .colab-df-convert {\n",
              "      background-color: #E8F0FE;\n",
              "      border: none;\n",
              "      border-radius: 50%;\n",
              "      cursor: pointer;\n",
              "      display: none;\n",
              "      fill: #1967D2;\n",
              "      height: 32px;\n",
              "      padding: 0 0 0 0;\n",
              "      width: 32px;\n",
              "    }\n",
              "\n",
              "    .colab-df-convert:hover {\n",
              "      background-color: #E2EBFA;\n",
              "      box-shadow: 0px 1px 2px rgba(60, 64, 67, 0.3), 0px 1px 3px 1px rgba(60, 64, 67, 0.15);\n",
              "      fill: #174EA6;\n",
              "    }\n",
              "\n",
              "    [theme=dark] .colab-df-convert {\n",
              "      background-color: #3B4455;\n",
              "      fill: #D2E3FC;\n",
              "    }\n",
              "\n",
              "    [theme=dark] .colab-df-convert:hover {\n",
              "      background-color: #434B5C;\n",
              "      box-shadow: 0px 1px 3px 1px rgba(0, 0, 0, 0.15);\n",
              "      filter: drop-shadow(0px 1px 2px rgba(0, 0, 0, 0.3));\n",
              "      fill: #FFFFFF;\n",
              "    }\n",
              "  </style>\n",
              "\n",
              "      <script>\n",
              "        const buttonEl =\n",
              "          document.querySelector('#df-c6fe8e8f-5d89-463b-ae80-b7faa57b69ce button.colab-df-convert');\n",
              "        buttonEl.style.display =\n",
              "          google.colab.kernel.accessAllowed ? 'block' : 'none';\n",
              "\n",
              "        async function convertToInteractive(key) {\n",
              "          const element = document.querySelector('#df-c6fe8e8f-5d89-463b-ae80-b7faa57b69ce');\n",
              "          const dataTable =\n",
              "            await google.colab.kernel.invokeFunction('convertToInteractive',\n",
              "                                                     [key], {});\n",
              "          if (!dataTable) return;\n",
              "\n",
              "          const docLinkHtml = 'Like what you see? Visit the ' +\n",
              "            '<a target=\"_blank\" href=https://colab.research.google.com/notebooks/data_table.ipynb>data table notebook</a>'\n",
              "            + ' to learn more about interactive tables.';\n",
              "          element.innerHTML = '';\n",
              "          dataTable['output_type'] = 'display_data';\n",
              "          await google.colab.output.renderOutput(dataTable, element);\n",
              "          const docLink = document.createElement('div');\n",
              "          docLink.innerHTML = docLinkHtml;\n",
              "          element.appendChild(docLink);\n",
              "        }\n",
              "      </script>\n",
              "    </div>\n",
              "  </div>\n",
              "  "
            ]
          },
          "metadata": {},
          "execution_count": 14
        }
      ],
      "source": [
        "df['domain1_score']=temp['final_score']\n",
        "df.head()"
      ]
    },
    {
      "cell_type": "code",
      "execution_count": 15,
      "metadata": {
        "id": "AoQTtppnp3my",
        "outputId": "06457919-9cec-4f73-b287-0eed659f952f",
        "colab": {
          "base_uri": "https://localhost:8080/",
          "height": 157
        }
      },
      "outputs": [
        {
          "output_type": "execute_result",
          "data": {
            "text/plain": [
              "\"Dear local newspaper, I think effects computers have on people are great learning skills/affects because they give us time to chat with friends/new people, helps us learn about the globe(astronomy) and keeps us out of troble! Thing about! Dont you think so? How would you feel if your teenager is always on the phone with friends! Do you ever time to chat with your friends or buisness partner about things. Well now - there's a new way to chat the computer, theirs plenty of sites on the internet to do so: @ORGANIZATION1, @ORGANIZATION2, @CAPS1, facebook, myspace ect. Just think now while your setting up meeting with your boss on the computer, your teenager is having fun on the phone not rushing to get off cause you want to use it. How did you learn about other countrys/states outside of yours? Well I have by computer/internet, it's a new way to learn about what going on in our time! You might think your child spends a lot of time on the computer, but ask them so question about the economy, sea floor spreading or even about the @DATE1's you'll be surprise at how much he/she knows. Believe it or not the computer is much interesting then in class all day reading out of books. If your child is home on your computer or at a local library, it's better than being out with friends being fresh, or being perpressured to doing something they know isnt right. You might not know where your child is, @CAPS2 forbidde in a hospital bed because of a drive-by. Rather than your child on the computer learning, chatting or just playing games, safe and sound in your home or community place. Now I hope you have reached a point to understand and agree with me, because computers can have great effects on you or child because it gives us time to chat with friends/new people, helps us learn about the globe and believe or not keeps us out of troble. Thank you for listening.\""
            ],
            "application/vnd.google.colaboratory.intrinsic+json": {
              "type": "string"
            }
          },
          "metadata": {},
          "execution_count": 15
        }
      ],
      "source": [
        "df['essay'][0]"
      ]
    },
    {
      "cell_type": "code",
      "execution_count": 16,
      "metadata": {
        "id": "ueSSBG07p3mz",
        "outputId": "535166a0-0f76-47ff-cdeb-e9d1163ecc75",
        "colab": {
          "base_uri": "https://localhost:8080/",
          "height": 214
        }
      },
      "outputs": [
        {
          "output_type": "execute_result",
          "data": {
            "text/plain": [
              "   essay_id  essay_set                                              essay  \\\n",
              "0         1          1  Dear local newspaper, I think effects computer...   \n",
              "\n",
              "   final_score                                        clean_essay  char_count  \\\n",
              "0            6  Dear local newspaper  I think effects computer...        1441   \n",
              "\n",
              "   word_count  sent_count  avg_word_len  spell_err_count  noun_count  \\\n",
              "0         344          16      4.188953               11          76   \n",
              "\n",
              "   adj_count  verb_count  adv_count  \n",
              "0         75          18         24  "
            ],
            "text/html": [
              "\n",
              "  <div id=\"df-4c19dbeb-d57e-464e-a2f7-e4eb7785fda9\">\n",
              "    <div class=\"colab-df-container\">\n",
              "      <div>\n",
              "<style scoped>\n",
              "    .dataframe tbody tr th:only-of-type {\n",
              "        vertical-align: middle;\n",
              "    }\n",
              "\n",
              "    .dataframe tbody tr th {\n",
              "        vertical-align: top;\n",
              "    }\n",
              "\n",
              "    .dataframe thead th {\n",
              "        text-align: right;\n",
              "    }\n",
              "</style>\n",
              "<table border=\"1\" class=\"dataframe\">\n",
              "  <thead>\n",
              "    <tr style=\"text-align: right;\">\n",
              "      <th></th>\n",
              "      <th>essay_id</th>\n",
              "      <th>essay_set</th>\n",
              "      <th>essay</th>\n",
              "      <th>final_score</th>\n",
              "      <th>clean_essay</th>\n",
              "      <th>char_count</th>\n",
              "      <th>word_count</th>\n",
              "      <th>sent_count</th>\n",
              "      <th>avg_word_len</th>\n",
              "      <th>spell_err_count</th>\n",
              "      <th>noun_count</th>\n",
              "      <th>adj_count</th>\n",
              "      <th>verb_count</th>\n",
              "      <th>adv_count</th>\n",
              "    </tr>\n",
              "  </thead>\n",
              "  <tbody>\n",
              "    <tr>\n",
              "      <th>0</th>\n",
              "      <td>1</td>\n",
              "      <td>1</td>\n",
              "      <td>Dear local newspaper, I think effects computer...</td>\n",
              "      <td>6</td>\n",
              "      <td>Dear local newspaper  I think effects computer...</td>\n",
              "      <td>1441</td>\n",
              "      <td>344</td>\n",
              "      <td>16</td>\n",
              "      <td>4.188953</td>\n",
              "      <td>11</td>\n",
              "      <td>76</td>\n",
              "      <td>75</td>\n",
              "      <td>18</td>\n",
              "      <td>24</td>\n",
              "    </tr>\n",
              "  </tbody>\n",
              "</table>\n",
              "</div>\n",
              "      <button class=\"colab-df-convert\" onclick=\"convertToInteractive('df-4c19dbeb-d57e-464e-a2f7-e4eb7785fda9')\"\n",
              "              title=\"Convert this dataframe to an interactive table.\"\n",
              "              style=\"display:none;\">\n",
              "        \n",
              "  <svg xmlns=\"http://www.w3.org/2000/svg\" height=\"24px\"viewBox=\"0 0 24 24\"\n",
              "       width=\"24px\">\n",
              "    <path d=\"M0 0h24v24H0V0z\" fill=\"none\"/>\n",
              "    <path d=\"M18.56 5.44l.94 2.06.94-2.06 2.06-.94-2.06-.94-.94-2.06-.94 2.06-2.06.94zm-11 1L8.5 8.5l.94-2.06 2.06-.94-2.06-.94L8.5 2.5l-.94 2.06-2.06.94zm10 10l.94 2.06.94-2.06 2.06-.94-2.06-.94-.94-2.06-.94 2.06-2.06.94z\"/><path d=\"M17.41 7.96l-1.37-1.37c-.4-.4-.92-.59-1.43-.59-.52 0-1.04.2-1.43.59L10.3 9.45l-7.72 7.72c-.78.78-.78 2.05 0 2.83L4 21.41c.39.39.9.59 1.41.59.51 0 1.02-.2 1.41-.59l7.78-7.78 2.81-2.81c.8-.78.8-2.07 0-2.86zM5.41 20L4 18.59l7.72-7.72 1.47 1.35L5.41 20z\"/>\n",
              "  </svg>\n",
              "      </button>\n",
              "      \n",
              "  <style>\n",
              "    .colab-df-container {\n",
              "      display:flex;\n",
              "      flex-wrap:wrap;\n",
              "      gap: 12px;\n",
              "    }\n",
              "\n",
              "    .colab-df-convert {\n",
              "      background-color: #E8F0FE;\n",
              "      border: none;\n",
              "      border-radius: 50%;\n",
              "      cursor: pointer;\n",
              "      display: none;\n",
              "      fill: #1967D2;\n",
              "      height: 32px;\n",
              "      padding: 0 0 0 0;\n",
              "      width: 32px;\n",
              "    }\n",
              "\n",
              "    .colab-df-convert:hover {\n",
              "      background-color: #E2EBFA;\n",
              "      box-shadow: 0px 1px 2px rgba(60, 64, 67, 0.3), 0px 1px 3px 1px rgba(60, 64, 67, 0.15);\n",
              "      fill: #174EA6;\n",
              "    }\n",
              "\n",
              "    [theme=dark] .colab-df-convert {\n",
              "      background-color: #3B4455;\n",
              "      fill: #D2E3FC;\n",
              "    }\n",
              "\n",
              "    [theme=dark] .colab-df-convert:hover {\n",
              "      background-color: #434B5C;\n",
              "      box-shadow: 0px 1px 3px 1px rgba(0, 0, 0, 0.15);\n",
              "      filter: drop-shadow(0px 1px 2px rgba(0, 0, 0, 0.3));\n",
              "      fill: #FFFFFF;\n",
              "    }\n",
              "  </style>\n",
              "\n",
              "      <script>\n",
              "        const buttonEl =\n",
              "          document.querySelector('#df-4c19dbeb-d57e-464e-a2f7-e4eb7785fda9 button.colab-df-convert');\n",
              "        buttonEl.style.display =\n",
              "          google.colab.kernel.accessAllowed ? 'block' : 'none';\n",
              "\n",
              "        async function convertToInteractive(key) {\n",
              "          const element = document.querySelector('#df-4c19dbeb-d57e-464e-a2f7-e4eb7785fda9');\n",
              "          const dataTable =\n",
              "            await google.colab.kernel.invokeFunction('convertToInteractive',\n",
              "                                                     [key], {});\n",
              "          if (!dataTable) return;\n",
              "\n",
              "          const docLinkHtml = 'Like what you see? Visit the ' +\n",
              "            '<a target=\"_blank\" href=https://colab.research.google.com/notebooks/data_table.ipynb>data table notebook</a>'\n",
              "            + ' to learn more about interactive tables.';\n",
              "          element.innerHTML = '';\n",
              "          dataTable['output_type'] = 'display_data';\n",
              "          await google.colab.output.renderOutput(dataTable, element);\n",
              "          const docLink = document.createElement('div');\n",
              "          docLink.innerHTML = docLinkHtml;\n",
              "          element.appendChild(docLink);\n",
              "        }\n",
              "      </script>\n",
              "    </div>\n",
              "  </div>\n",
              "  "
            ]
          },
          "metadata": {},
          "execution_count": 16
        }
      ],
      "source": [
        "temp.head(1)"
      ]
    },
    {
      "cell_type": "code",
      "execution_count": 17,
      "metadata": {
        "id": "ZJfDVAWAp3m0"
      },
      "outputs": [],
      "source": [
        "#Make Dataset\n",
        "y = df['domain1_score']\n",
        "df.drop('domain1_score',inplace=True,axis=1)\n",
        "X=df"
      ]
    },
    {
      "cell_type": "code",
      "execution_count": 18,
      "metadata": {
        "id": "VYmgce2tp3m1"
      },
      "outputs": [],
      "source": [
        "X_train, X_test, y_train, y_test = train_test_split(X, y, test_size=0.3, random_state=42)"
      ]
    },
    {
      "cell_type": "code",
      "execution_count": 19,
      "metadata": {
        "id": "fXxTNTEjp3m2",
        "outputId": "45aaffce-a5e0-4ba3-cf9e-b61fcc4e1ca9",
        "colab": {
          "base_uri": "https://localhost:8080/"
        }
      },
      "outputs": [
        {
          "output_type": "execute_result",
          "data": {
            "text/plain": [
              "(9083, 3)"
            ]
          },
          "metadata": {},
          "execution_count": 19
        }
      ],
      "source": [
        "X_train.shape"
      ]
    },
    {
      "cell_type": "markdown",
      "metadata": {
        "id": "1HfO03LJp3m2"
      },
      "source": [
        " "
      ]
    },
    {
      "cell_type": "markdown",
      "metadata": {
        "id": "SRTUJAusp3m3"
      },
      "source": [
        "**PREPROCESSING**"
      ]
    },
    {
      "cell_type": "code",
      "execution_count": 20,
      "metadata": {
        "id": "uiMkJlbFp3m3"
      },
      "outputs": [],
      "source": [
        "train_e = X_train['essay'].tolist()\n",
        "test_e = X_test['essay'].tolist()"
      ]
    },
    {
      "cell_type": "code",
      "execution_count": 21,
      "metadata": {
        "id": "Jg5O7OXVp3m4"
      },
      "outputs": [],
      "source": [
        "train_sents=[]\n",
        "test_sents=[]\n",
        "\n",
        "stop_words = set(stopwords.words('english')) \n",
        "def sent2word(x):\n",
        "    x=re.sub(\"[^A-Za-z]\",\" \",x)\n",
        "    x.lower()\n",
        "    filtered_sentence = [] \n",
        "    words=x.split()\n",
        "    for w in words:\n",
        "        if w not in stop_words: \n",
        "            filtered_sentence.append(w)\n",
        "    return filtered_sentence\n",
        "\n",
        "def essay2word(essay):\n",
        "    essay = essay.strip()\n",
        "    tokenizer = nltk.data.load('tokenizers/punkt/english.pickle')\n",
        "    raw = tokenizer.tokenize(essay)\n",
        "    final_words=[]\n",
        "    for i in raw:\n",
        "        if(len(i)>0):\n",
        "            final_words.append(sent2word(i))\n",
        "    return final_words\n",
        "\n",
        "for i in train_e:\n",
        "    train_sents+=essay2word(i)\n",
        "\n",
        "for i in test_e:\n",
        "    test_sents+=essay2word(i)"
      ]
    },
    {
      "cell_type": "code",
      "execution_count": 22,
      "metadata": {
        "id": "-i6LaT4Lp3m4",
        "outputId": "7290502c-a784-4606-fbc7-769a18e6ca6b",
        "colab": {
          "base_uri": "https://localhost:8080/"
        }
      },
      "outputs": [
        {
          "output_type": "execute_result",
          "data": {
            "text/plain": [
              "115924"
            ]
          },
          "metadata": {},
          "execution_count": 22
        }
      ],
      "source": [
        "len(train_sents)"
      ]
    },
    {
      "cell_type": "code",
      "execution_count": 23,
      "metadata": {
        "id": "GRAtsrhMp3m4",
        "outputId": "1383a675-8458-478b-b560-f48d5032a61e",
        "colab": {
          "base_uri": "https://localhost:8080/"
        }
      },
      "outputs": [
        {
          "output_type": "execute_result",
          "data": {
            "text/plain": [
              "['It',\n",
              " 'first',\n",
              " 'day',\n",
              " 'high',\n",
              " 'school',\n",
              " 'gut',\n",
              " 'full',\n",
              " 'butterflies',\n",
              " 'make',\n",
              " 'want',\n",
              " 'run',\n",
              " 'bathrooms',\n",
              " 'hide',\n",
              " 'world']"
            ]
          },
          "metadata": {},
          "execution_count": 23
        }
      ],
      "source": [
        "train_sents[0]"
      ]
    },
    {
      "cell_type": "markdown",
      "metadata": {
        "id": "XHtI4tCip3m5"
      },
      "source": [
        " "
      ]
    },
    {
      "cell_type": "markdown",
      "metadata": {
        "id": "8qHWJ627p3m5"
      },
      "source": [
        "**Preparing WORD2VEC and LSTM Model**"
      ]
    },
    {
      "cell_type": "code",
      "execution_count": 24,
      "metadata": {
        "id": "Cp6mBVyKp3m5"
      },
      "outputs": [],
      "source": [
        "def get_model():\n",
        "    model = Sequential()\n",
        "    model.add(LSTM(300, dropout=0.4, recurrent_dropout=0.4, input_shape=[1, 300], return_sequences=True))\n",
        "    model.add(LSTM(64, recurrent_dropout=0.4))\n",
        "    model.add(Dropout(0.5))\n",
        "    model.add(Dense(1, activation='relu'))\n",
        "    model.compile(loss='mean_squared_error', optimizer='rmsprop', metrics=['mae'])\n",
        "    model.summary()\n",
        "    return model"
      ]
    },
    {
      "cell_type": "code",
      "execution_count": 25,
      "metadata": {
        "id": "BTYr_yukp3m6"
      },
      "outputs": [],
      "source": [
        "#Training Word2Vec model\n",
        "num_features = 300 \n",
        "min_word_count = 40\n",
        "num_workers = 4\n",
        "context = 10\n",
        "downsampling = 1e-3\n",
        "\n",
        "model = Word2Vec(train_sents, \n",
        "                 workers=num_workers, \n",
        "                 size=num_features, \n",
        "                 min_count = min_word_count, \n",
        "                 window = context, \n",
        "                 sample = downsampling)\n",
        "\n",
        "model.init_sims(replace=True)\n",
        "model.wv.save_word2vec_format('word2vecmodel.bin', binary=True)"
      ]
    },
    {
      "cell_type": "code",
      "execution_count": 26,
      "metadata": {
        "scrolled": true,
        "id": "BZPDLUt-p3m6",
        "outputId": "47bc0437-1261-4693-d350-f3c7e6213479",
        "colab": {
          "base_uri": "https://localhost:8080/"
        }
      },
      "outputs": [
        {
          "output_type": "stream",
          "name": "stderr",
          "text": [
            "/usr/local/lib/python3.7/dist-packages/ipykernel_launcher.py:8: DeprecationWarning: Call to deprecated `__getitem__` (Method will be removed in 4.0.0, use self.wv.__getitem__() instead).\n",
            "  \n",
            "/usr/local/lib/python3.7/dist-packages/ipykernel_launcher.py:9: RuntimeWarning: invalid value encountered in true_divide\n",
            "  if __name__ == '__main__':\n"
          ]
        }
      ],
      "source": [
        "def makeVec(words, model, num_features):\n",
        "    vec = np.zeros((num_features,),dtype=\"float32\")\n",
        "    noOfWords = 0.\n",
        "    index2word_set = set(model.wv.index2word)\n",
        "    for i in words:\n",
        "        if i in index2word_set:\n",
        "            noOfWords += 1\n",
        "            vec = np.add(vec,model[i])        \n",
        "    vec = np.divide(vec,noOfWords)\n",
        "    return vec\n",
        "\n",
        "\n",
        "def getVecs(essays, model, num_features):\n",
        "    c=0\n",
        "    essay_vecs = np.zeros((len(essays),num_features),dtype=\"float32\")\n",
        "    for i in essays:\n",
        "        essay_vecs[c] = makeVec(i, model, num_features)\n",
        "        c+=1\n",
        "    return essay_vecs\n",
        "\n",
        "\n",
        "clean_train=[]\n",
        "for i in train_e:\n",
        "    clean_train.append(sent2word(i))\n",
        "training_vectors = getVecs(clean_train, model, num_features)\n",
        "\n",
        "clean_test=[] \n",
        "\n",
        "for i in test_e:\n",
        "    clean_test.append(sent2word(i))\n",
        "testing_vectors = getVecs(clean_test, model, num_features)"
      ]
    },
    {
      "cell_type": "code",
      "execution_count": 27,
      "metadata": {
        "id": "vTI8DdpJp3m7",
        "outputId": "d7781634-cb7d-4c75-e5f2-d9b6824855d2",
        "colab": {
          "base_uri": "https://localhost:8080/"
        }
      },
      "outputs": [
        {
          "output_type": "execute_result",
          "data": {
            "text/plain": [
              "(9083, 300)"
            ]
          },
          "metadata": {},
          "execution_count": 27
        }
      ],
      "source": [
        "training_vectors.shape"
      ]
    },
    {
      "cell_type": "code",
      "execution_count": 28,
      "metadata": {
        "id": "u30nDMIvp3m7",
        "outputId": "65de11eb-87bb-4822-f0bb-97cef11be482",
        "colab": {
          "base_uri": "https://localhost:8080/"
        }
      },
      "outputs": [
        {
          "output_type": "stream",
          "name": "stdout",
          "text": [
            "Model: \"sequential\"\n",
            "_________________________________________________________________\n",
            " Layer (type)                Output Shape              Param #   \n",
            "=================================================================\n",
            " lstm (LSTM)                 (None, 1, 300)            721200    \n",
            "                                                                 \n",
            " lstm_1 (LSTM)               (None, 64)                93440     \n",
            "                                                                 \n",
            " dropout (Dropout)           (None, 64)                0         \n",
            "                                                                 \n",
            " dense (Dense)               (None, 1)                 65        \n",
            "                                                                 \n",
            "=================================================================\n",
            "Total params: 814,705\n",
            "Trainable params: 814,705\n",
            "Non-trainable params: 0\n",
            "_________________________________________________________________\n"
          ]
        }
      ],
      "source": [
        "training_vectors = np.array(training_vectors)\n",
        "testing_vectors = np.array(testing_vectors)\n",
        "\n",
        "# Reshaping train and test vectors to 3 dimensions. (1 represnts one timestep)\n",
        "training_vectors = np.reshape(training_vectors, (training_vectors.shape[0], 1, training_vectors.shape[1]))\n",
        "testing_vectors = np.reshape(testing_vectors, (testing_vectors.shape[0], 1, testing_vectors.shape[1]))\n",
        "lstm_model = get_model()"
      ]
    },
    {
      "cell_type": "code",
      "execution_count": 29,
      "metadata": {
        "id": "WMg5mh0Jp3m7",
        "outputId": "a7671fa9-7fd7-4c9b-80e3-0e2cdc69ca3f",
        "colab": {
          "base_uri": "https://localhost:8080/"
        }
      },
      "outputs": [
        {
          "output_type": "execute_result",
          "data": {
            "text/plain": [
              "(9083, 1, 300)"
            ]
          },
          "metadata": {},
          "execution_count": 29
        }
      ],
      "source": [
        "training_vectors.shape"
      ]
    },
    {
      "cell_type": "markdown",
      "metadata": {
        "id": "JvQwgVlep3m8"
      },
      "source": [
        "\n",
        "**TRAINING AND PREDICTION**\n",
        "\n",
        "\n",
        "\n",
        "\n",
        "\n"
      ]
    },
    {
      "cell_type": "markdown",
      "metadata": {
        "id": "AlMq6Mj6p3m8"
      },
      "source": [
        "  "
      ]
    },
    {
      "cell_type": "code",
      "execution_count": 30,
      "metadata": {
        "scrolled": false,
        "id": "wdn-RpE1p3m8",
        "outputId": "738b6387-bf88-42b1-88ee-9573172441aa",
        "colab": {
          "base_uri": "https://localhost:8080/"
        }
      },
      "outputs": [
        {
          "output_type": "stream",
          "name": "stdout",
          "text": [
            "Epoch 1/150\n",
            "142/142 [==============================] - 7s 19ms/step - loss: 10.2976 - mae: 2.5029\n",
            "Epoch 2/150\n",
            "142/142 [==============================] - 3s 20ms/step - loss: 5.4063 - mae: 1.8391\n",
            "Epoch 3/150\n",
            "142/142 [==============================] - 3s 19ms/step - loss: 5.2744 - mae: 1.8178\n",
            "Epoch 4/150\n",
            "142/142 [==============================] - 3s 19ms/step - loss: 5.2398 - mae: 1.8089\n",
            "Epoch 5/150\n",
            "142/142 [==============================] - 3s 19ms/step - loss: 5.0620 - mae: 1.7748\n",
            "Epoch 6/150\n",
            "142/142 [==============================] - 3s 20ms/step - loss: 5.0789 - mae: 1.7810\n",
            "Epoch 7/150\n",
            "142/142 [==============================] - 3s 19ms/step - loss: 4.9849 - mae: 1.7613\n",
            "Epoch 8/150\n",
            "142/142 [==============================] - 3s 19ms/step - loss: 4.9590 - mae: 1.7497\n",
            "Epoch 9/150\n",
            "142/142 [==============================] - 3s 19ms/step - loss: 4.9314 - mae: 1.7447\n",
            "Epoch 10/150\n",
            "142/142 [==============================] - 3s 19ms/step - loss: 4.9386 - mae: 1.7487\n",
            "Epoch 11/150\n",
            "142/142 [==============================] - 3s 19ms/step - loss: 4.9482 - mae: 1.7516\n",
            "Epoch 12/150\n",
            "142/142 [==============================] - 3s 19ms/step - loss: 4.9149 - mae: 1.7407\n",
            "Epoch 13/150\n",
            "142/142 [==============================] - 3s 19ms/step - loss: 4.8770 - mae: 1.7380\n",
            "Epoch 14/150\n",
            "142/142 [==============================] - 3s 19ms/step - loss: 4.7758 - mae: 1.7186\n",
            "Epoch 15/150\n",
            "142/142 [==============================] - 3s 19ms/step - loss: 4.7558 - mae: 1.7076\n",
            "Epoch 16/150\n",
            "142/142 [==============================] - 3s 19ms/step - loss: 4.7015 - mae: 1.7036\n",
            "Epoch 17/150\n",
            "142/142 [==============================] - 3s 20ms/step - loss: 4.6993 - mae: 1.6997\n",
            "Epoch 18/150\n",
            "142/142 [==============================] - 3s 20ms/step - loss: 4.7307 - mae: 1.7021\n",
            "Epoch 19/150\n",
            "142/142 [==============================] - 3s 20ms/step - loss: 4.6332 - mae: 1.6821\n",
            "Epoch 20/150\n",
            "142/142 [==============================] - 3s 20ms/step - loss: 4.6376 - mae: 1.6942\n",
            "Epoch 21/150\n",
            "142/142 [==============================] - 3s 24ms/step - loss: 4.5218 - mae: 1.6667\n",
            "Epoch 22/150\n",
            "142/142 [==============================] - 3s 20ms/step - loss: 4.5579 - mae: 1.6786\n",
            "Epoch 23/150\n",
            "142/142 [==============================] - 3s 19ms/step - loss: 4.4783 - mae: 1.6569\n",
            "Epoch 24/150\n",
            "142/142 [==============================] - 3s 19ms/step - loss: 4.4291 - mae: 1.6439\n",
            "Epoch 25/150\n",
            "142/142 [==============================] - 3s 19ms/step - loss: 4.4912 - mae: 1.6590\n",
            "Epoch 26/150\n",
            "142/142 [==============================] - 3s 19ms/step - loss: 4.4957 - mae: 1.6638\n",
            "Epoch 27/150\n",
            "142/142 [==============================] - 3s 20ms/step - loss: 4.4555 - mae: 1.6485\n",
            "Epoch 28/150\n",
            "142/142 [==============================] - 3s 19ms/step - loss: 4.4159 - mae: 1.6485\n",
            "Epoch 29/150\n",
            "142/142 [==============================] - 3s 19ms/step - loss: 4.3493 - mae: 1.6358\n",
            "Epoch 30/150\n",
            "142/142 [==============================] - 3s 19ms/step - loss: 4.3192 - mae: 1.6280\n",
            "Epoch 31/150\n",
            "142/142 [==============================] - 3s 20ms/step - loss: 4.3125 - mae: 1.6244\n",
            "Epoch 32/150\n",
            "142/142 [==============================] - 3s 20ms/step - loss: 4.3159 - mae: 1.6225\n",
            "Epoch 33/150\n",
            "142/142 [==============================] - 3s 24ms/step - loss: 4.3146 - mae: 1.6273\n",
            "Epoch 34/150\n",
            "142/142 [==============================] - 3s 19ms/step - loss: 4.2795 - mae: 1.6140\n",
            "Epoch 35/150\n",
            "142/142 [==============================] - 3s 19ms/step - loss: 4.2172 - mae: 1.6082\n",
            "Epoch 36/150\n",
            "142/142 [==============================] - 3s 20ms/step - loss: 4.2256 - mae: 1.6052\n",
            "Epoch 37/150\n",
            "142/142 [==============================] - 3s 19ms/step - loss: 4.1879 - mae: 1.6007\n",
            "Epoch 38/150\n",
            "142/142 [==============================] - 3s 19ms/step - loss: 4.1520 - mae: 1.5934\n",
            "Epoch 39/150\n",
            "142/142 [==============================] - 3s 19ms/step - loss: 4.1528 - mae: 1.5931\n",
            "Epoch 40/150\n",
            "142/142 [==============================] - 3s 19ms/step - loss: 4.1163 - mae: 1.5826\n",
            "Epoch 41/150\n",
            "142/142 [==============================] - 3s 19ms/step - loss: 4.1433 - mae: 1.5880\n",
            "Epoch 42/150\n",
            "142/142 [==============================] - 3s 19ms/step - loss: 4.0655 - mae: 1.5800\n",
            "Epoch 43/150\n",
            "142/142 [==============================] - 3s 19ms/step - loss: 4.1040 - mae: 1.5798\n",
            "Epoch 44/150\n",
            "142/142 [==============================] - 3s 19ms/step - loss: 4.0484 - mae: 1.5688\n",
            "Epoch 45/150\n",
            "142/142 [==============================] - 3s 19ms/step - loss: 3.9909 - mae: 1.5565\n",
            "Epoch 46/150\n",
            "142/142 [==============================] - 3s 19ms/step - loss: 3.9877 - mae: 1.5583\n",
            "Epoch 47/150\n",
            "142/142 [==============================] - 3s 20ms/step - loss: 3.9443 - mae: 1.5498\n",
            "Epoch 48/150\n",
            "142/142 [==============================] - 3s 20ms/step - loss: 3.9885 - mae: 1.5603\n",
            "Epoch 49/150\n",
            "142/142 [==============================] - 3s 20ms/step - loss: 3.9674 - mae: 1.5503\n",
            "Epoch 50/150\n",
            "142/142 [==============================] - 3s 19ms/step - loss: 3.8543 - mae: 1.5360\n",
            "Epoch 51/150\n",
            "142/142 [==============================] - 3s 19ms/step - loss: 3.9607 - mae: 1.5541\n",
            "Epoch 52/150\n",
            "142/142 [==============================] - 3s 19ms/step - loss: 3.8800 - mae: 1.5392\n",
            "Epoch 53/150\n",
            "142/142 [==============================] - 3s 19ms/step - loss: 3.8803 - mae: 1.5370\n",
            "Epoch 54/150\n",
            "142/142 [==============================] - 3s 19ms/step - loss: 3.8406 - mae: 1.5339\n",
            "Epoch 55/150\n",
            "142/142 [==============================] - 3s 19ms/step - loss: 3.7944 - mae: 1.5187\n",
            "Epoch 56/150\n",
            "142/142 [==============================] - 3s 20ms/step - loss: 3.8024 - mae: 1.5231\n",
            "Epoch 57/150\n",
            "142/142 [==============================] - 3s 19ms/step - loss: 3.7906 - mae: 1.5223\n",
            "Epoch 58/150\n",
            "142/142 [==============================] - 3s 19ms/step - loss: 3.7389 - mae: 1.5054\n",
            "Epoch 59/150\n",
            "142/142 [==============================] - 3s 20ms/step - loss: 3.7641 - mae: 1.5063\n",
            "Epoch 60/150\n",
            "142/142 [==============================] - 3s 19ms/step - loss: 3.7803 - mae: 1.5183\n",
            "Epoch 61/150\n",
            "142/142 [==============================] - 3s 20ms/step - loss: 3.7418 - mae: 1.5034\n",
            "Epoch 62/150\n",
            "142/142 [==============================] - 3s 20ms/step - loss: 3.7183 - mae: 1.5010\n",
            "Epoch 63/150\n",
            "142/142 [==============================] - 3s 19ms/step - loss: 3.7284 - mae: 1.5029\n",
            "Epoch 64/150\n",
            "142/142 [==============================] - 3s 19ms/step - loss: 3.7022 - mae: 1.4989\n",
            "Epoch 65/150\n",
            "142/142 [==============================] - 3s 20ms/step - loss: 3.6418 - mae: 1.4887\n",
            "Epoch 66/150\n",
            "142/142 [==============================] - 3s 20ms/step - loss: 3.6875 - mae: 1.4981\n",
            "Epoch 67/150\n",
            "142/142 [==============================] - 3s 20ms/step - loss: 3.6138 - mae: 1.4861\n",
            "Epoch 68/150\n",
            "142/142 [==============================] - 3s 19ms/step - loss: 3.6202 - mae: 1.4886\n",
            "Epoch 69/150\n",
            "142/142 [==============================] - 3s 20ms/step - loss: 3.5965 - mae: 1.4788\n",
            "Epoch 70/150\n",
            "142/142 [==============================] - 3s 20ms/step - loss: 3.6143 - mae: 1.4800\n",
            "Epoch 71/150\n",
            "142/142 [==============================] - 3s 20ms/step - loss: 3.5862 - mae: 1.4758\n",
            "Epoch 72/150\n",
            "142/142 [==============================] - 3s 19ms/step - loss: 3.6171 - mae: 1.4806\n",
            "Epoch 73/150\n",
            "142/142 [==============================] - 3s 19ms/step - loss: 3.5628 - mae: 1.4708\n",
            "Epoch 74/150\n",
            "142/142 [==============================] - 3s 19ms/step - loss: 3.5993 - mae: 1.4806\n",
            "Epoch 75/150\n",
            "142/142 [==============================] - 3s 19ms/step - loss: 3.5162 - mae: 1.4633\n",
            "Epoch 76/150\n",
            "142/142 [==============================] - 3s 19ms/step - loss: 3.5318 - mae: 1.4653\n",
            "Epoch 77/150\n",
            "142/142 [==============================] - 3s 19ms/step - loss: 3.5618 - mae: 1.4707\n",
            "Epoch 78/150\n",
            "142/142 [==============================] - 3s 20ms/step - loss: 3.5015 - mae: 1.4569\n",
            "Epoch 79/150\n",
            "142/142 [==============================] - 3s 20ms/step - loss: 3.5284 - mae: 1.4577\n",
            "Epoch 80/150\n",
            "142/142 [==============================] - 3s 20ms/step - loss: 3.4984 - mae: 1.4530\n",
            "Epoch 81/150\n",
            "142/142 [==============================] - 3s 20ms/step - loss: 3.4956 - mae: 1.4508\n",
            "Epoch 82/150\n",
            "142/142 [==============================] - 3s 19ms/step - loss: 3.4778 - mae: 1.4489\n",
            "Epoch 83/150\n",
            "142/142 [==============================] - 3s 20ms/step - loss: 3.4605 - mae: 1.4469\n",
            "Epoch 84/150\n",
            "142/142 [==============================] - 3s 20ms/step - loss: 3.4699 - mae: 1.4513\n",
            "Epoch 85/150\n",
            "142/142 [==============================] - 3s 20ms/step - loss: 3.4359 - mae: 1.4382\n",
            "Epoch 86/150\n",
            "142/142 [==============================] - 3s 19ms/step - loss: 3.4389 - mae: 1.4452\n",
            "Epoch 87/150\n",
            "142/142 [==============================] - 3s 20ms/step - loss: 3.3911 - mae: 1.4332\n",
            "Epoch 88/150\n",
            "142/142 [==============================] - 3s 20ms/step - loss: 3.3768 - mae: 1.4305\n",
            "Epoch 89/150\n",
            "142/142 [==============================] - 3s 20ms/step - loss: 3.4013 - mae: 1.4340\n",
            "Epoch 90/150\n",
            "142/142 [==============================] - 3s 20ms/step - loss: 3.4120 - mae: 1.4387\n",
            "Epoch 91/150\n",
            "142/142 [==============================] - 3s 20ms/step - loss: 3.4354 - mae: 1.4452\n",
            "Epoch 92/150\n",
            "142/142 [==============================] - 3s 19ms/step - loss: 3.3342 - mae: 1.4183\n",
            "Epoch 93/150\n",
            "142/142 [==============================] - 3s 19ms/step - loss: 3.3410 - mae: 1.4206\n",
            "Epoch 94/150\n",
            "142/142 [==============================] - 3s 20ms/step - loss: 3.3582 - mae: 1.4279\n",
            "Epoch 95/150\n",
            "142/142 [==============================] - 3s 19ms/step - loss: 3.3755 - mae: 1.4285\n",
            "Epoch 96/150\n",
            "142/142 [==============================] - 3s 20ms/step - loss: 3.4166 - mae: 1.4332\n",
            "Epoch 97/150\n",
            "142/142 [==============================] - 3s 20ms/step - loss: 3.3591 - mae: 1.4243\n",
            "Epoch 98/150\n",
            "142/142 [==============================] - 3s 24ms/step - loss: 3.3630 - mae: 1.4292\n",
            "Epoch 99/150\n",
            "142/142 [==============================] - 3s 20ms/step - loss: 3.3241 - mae: 1.4126\n",
            "Epoch 100/150\n",
            "142/142 [==============================] - 3s 19ms/step - loss: 3.3302 - mae: 1.4156\n",
            "Epoch 101/150\n",
            "142/142 [==============================] - 3s 19ms/step - loss: 3.2735 - mae: 1.4051\n",
            "Epoch 102/150\n",
            "142/142 [==============================] - 3s 20ms/step - loss: 3.3097 - mae: 1.4100\n",
            "Epoch 103/150\n",
            "142/142 [==============================] - 3s 19ms/step - loss: 3.3164 - mae: 1.4131\n",
            "Epoch 104/150\n",
            "142/142 [==============================] - 3s 20ms/step - loss: 3.3291 - mae: 1.4134\n",
            "Epoch 105/150\n",
            "142/142 [==============================] - 3s 19ms/step - loss: 3.3052 - mae: 1.4150\n",
            "Epoch 106/150\n",
            "142/142 [==============================] - 3s 19ms/step - loss: 3.3001 - mae: 1.4134\n",
            "Epoch 107/150\n",
            "142/142 [==============================] - 3s 20ms/step - loss: 3.2719 - mae: 1.4049\n",
            "Epoch 108/150\n",
            "142/142 [==============================] - 3s 19ms/step - loss: 3.2432 - mae: 1.3972\n",
            "Epoch 109/150\n",
            "142/142 [==============================] - 3s 19ms/step - loss: 3.2840 - mae: 1.4066\n",
            "Epoch 110/150\n",
            "142/142 [==============================] - 3s 24ms/step - loss: 3.2342 - mae: 1.3972\n",
            "Epoch 111/150\n",
            "142/142 [==============================] - 3s 19ms/step - loss: 3.2544 - mae: 1.3983\n",
            "Epoch 112/150\n",
            "142/142 [==============================] - 3s 19ms/step - loss: 3.2259 - mae: 1.3933\n",
            "Epoch 113/150\n",
            "142/142 [==============================] - 3s 20ms/step - loss: 3.2209 - mae: 1.3933\n",
            "Epoch 114/150\n",
            "142/142 [==============================] - 3s 20ms/step - loss: 3.2351 - mae: 1.3991\n",
            "Epoch 115/150\n",
            "142/142 [==============================] - 3s 20ms/step - loss: 3.2294 - mae: 1.3921\n",
            "Epoch 116/150\n",
            "142/142 [==============================] - 3s 20ms/step - loss: 3.2280 - mae: 1.3899\n",
            "Epoch 117/150\n",
            "142/142 [==============================] - 3s 20ms/step - loss: 3.2129 - mae: 1.3864\n",
            "Epoch 118/150\n",
            "142/142 [==============================] - 3s 20ms/step - loss: 3.1698 - mae: 1.3822\n",
            "Epoch 119/150\n",
            "142/142 [==============================] - 3s 20ms/step - loss: 3.2185 - mae: 1.3923\n",
            "Epoch 120/150\n",
            "142/142 [==============================] - 3s 20ms/step - loss: 3.1825 - mae: 1.3845\n",
            "Epoch 121/150\n",
            "142/142 [==============================] - 3s 20ms/step - loss: 3.2162 - mae: 1.3900\n",
            "Epoch 122/150\n",
            "142/142 [==============================] - 3s 20ms/step - loss: 3.1971 - mae: 1.3854\n",
            "Epoch 123/150\n",
            "142/142 [==============================] - 3s 22ms/step - loss: 3.1898 - mae: 1.3911\n",
            "Epoch 124/150\n",
            "142/142 [==============================] - 4s 28ms/step - loss: 3.1688 - mae: 1.3794\n",
            "Epoch 125/150\n",
            "142/142 [==============================] - 3s 24ms/step - loss: 3.1793 - mae: 1.3842\n",
            "Epoch 126/150\n",
            "142/142 [==============================] - 3s 21ms/step - loss: 3.1417 - mae: 1.3727\n",
            "Epoch 127/150\n",
            "142/142 [==============================] - 3s 21ms/step - loss: 3.2193 - mae: 1.3943\n",
            "Epoch 128/150\n",
            "142/142 [==============================] - 3s 21ms/step - loss: 3.1686 - mae: 1.3814\n",
            "Epoch 129/150\n",
            "142/142 [==============================] - 3s 21ms/step - loss: 3.1699 - mae: 1.3772\n",
            "Epoch 130/150\n",
            "142/142 [==============================] - 3s 21ms/step - loss: 3.1793 - mae: 1.3867\n",
            "Epoch 131/150\n",
            "142/142 [==============================] - 3s 21ms/step - loss: 3.1313 - mae: 1.3758\n",
            "Epoch 132/150\n",
            "142/142 [==============================] - 3s 20ms/step - loss: 3.1486 - mae: 1.3799\n",
            "Epoch 133/150\n",
            "142/142 [==============================] - 3s 20ms/step - loss: 3.1492 - mae: 1.3816\n",
            "Epoch 134/150\n",
            "142/142 [==============================] - 3s 20ms/step - loss: 3.1196 - mae: 1.3687\n",
            "Epoch 135/150\n",
            "142/142 [==============================] - 3s 20ms/step - loss: 3.1321 - mae: 1.3728\n",
            "Epoch 136/150\n",
            "142/142 [==============================] - 3s 20ms/step - loss: 3.0709 - mae: 1.3582\n",
            "Epoch 137/150\n",
            "142/142 [==============================] - 3s 21ms/step - loss: 3.0968 - mae: 1.3690\n",
            "Epoch 138/150\n",
            "142/142 [==============================] - 3s 21ms/step - loss: 3.1013 - mae: 1.3653\n",
            "Epoch 139/150\n",
            "142/142 [==============================] - 3s 21ms/step - loss: 3.1150 - mae: 1.3663\n",
            "Epoch 140/150\n",
            "142/142 [==============================] - 3s 21ms/step - loss: 3.1399 - mae: 1.3754\n",
            "Epoch 141/150\n",
            "142/142 [==============================] - 3s 20ms/step - loss: 3.0750 - mae: 1.3584\n",
            "Epoch 142/150\n",
            "142/142 [==============================] - 3s 20ms/step - loss: 3.0907 - mae: 1.3602\n",
            "Epoch 143/150\n",
            "142/142 [==============================] - 3s 20ms/step - loss: 3.0885 - mae: 1.3601\n",
            "Epoch 144/150\n",
            "142/142 [==============================] - 3s 21ms/step - loss: 3.0503 - mae: 1.3527\n",
            "Epoch 145/150\n",
            "142/142 [==============================] - 3s 20ms/step - loss: 3.0958 - mae: 1.3680\n",
            "Epoch 146/150\n",
            "142/142 [==============================] - 3s 20ms/step - loss: 3.0719 - mae: 1.3589\n",
            "Epoch 147/150\n",
            "142/142 [==============================] - 3s 21ms/step - loss: 3.0214 - mae: 1.3466\n",
            "Epoch 148/150\n",
            "142/142 [==============================] - 3s 20ms/step - loss: 3.0296 - mae: 1.3487\n",
            "Epoch 149/150\n",
            "142/142 [==============================] - 3s 21ms/step - loss: 3.0784 - mae: 1.3597\n",
            "Epoch 150/150\n",
            "142/142 [==============================] - 3s 20ms/step - loss: 3.1065 - mae: 1.3619\n"
          ]
        },
        {
          "output_type": "execute_result",
          "data": {
            "text/plain": [
              "<keras.callbacks.History at 0x7fa703026910>"
            ]
          },
          "metadata": {},
          "execution_count": 30
        }
      ],
      "source": [
        "lstm_model.fit(training_vectors, y_train, batch_size=64, epochs=150)"
      ]
    },
    {
      "cell_type": "code",
      "execution_count": 31,
      "metadata": {
        "id": "6WLSSKX1p3m8",
        "outputId": "cb8bc761-7292-46f7-ec5d-84ad8457f05c",
        "colab": {
          "base_uri": "https://localhost:8080/"
        }
      },
      "outputs": [
        {
          "output_type": "stream",
          "name": "stdout",
          "text": [
            "122/122 [==============================] - 1s 5ms/step\n"
          ]
        },
        {
          "output_type": "execute_result",
          "data": {
            "text/plain": [
              "array([[3.],\n",
              "       [5.],\n",
              "       [6.],\n",
              "       ...,\n",
              "       [7.],\n",
              "       [7.],\n",
              "       [9.]], dtype=float32)"
            ]
          },
          "metadata": {},
          "execution_count": 31
        }
      ],
      "source": [
        "lstm_model.save('final_lstm.h5')\n",
        "y_pred = lstm_model.predict(testing_vectors)\n",
        "y_pred = np.around(y_pred)\n",
        "y_pred"
      ]
    },
    {
      "cell_type": "code",
      "execution_count": 31,
      "metadata": {
        "id": "CacTwZsGp3m8"
      },
      "outputs": [],
      "source": []
    },
    {
      "cell_type": "code",
      "execution_count": 31,
      "metadata": {
        "id": "2G0iTUCpp3m9"
      },
      "outputs": [],
      "source": []
    },
    {
      "cell_type": "code",
      "execution_count": 31,
      "metadata": {
        "id": "zHW5gGJip3m9"
      },
      "outputs": [],
      "source": []
    },
    {
      "cell_type": "code",
      "execution_count": 31,
      "metadata": {
        "id": "wEu2ncHxp3m9"
      },
      "outputs": [],
      "source": []
    },
    {
      "cell_type": "code",
      "execution_count": 31,
      "metadata": {
        "id": "JruYcCG4p3m9"
      },
      "outputs": [],
      "source": []
    }
  ],
  "metadata": {
    "kernelspec": {
      "display_name": "Python 3",
      "language": "python",
      "name": "python3"
    },
    "language_info": {
      "codemirror_mode": {
        "name": "ipython",
        "version": 3
      },
      "file_extension": ".py",
      "mimetype": "text/x-python",
      "name": "python",
      "nbconvert_exporter": "python",
      "pygments_lexer": "ipython3",
      "version": "3.8.1"
    },
    "colab": {
      "provenance": []
    }
  },
  "nbformat": 4,
  "nbformat_minor": 0
}