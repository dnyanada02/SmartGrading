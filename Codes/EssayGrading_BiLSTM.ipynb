{
  "cells": [
    {
      "cell_type": "code",
      "execution_count": null,
      "metadata": {
        "id": "MNrigLLSwbNQ"
      },
      "outputs": [],
      "source": [
        "# importing required packages\n",
        "import pandas as pd\n",
        "import numpy as np\n",
        "import nltk\n",
        "import re\n",
        "from nltk.corpus import stopwords\n",
        "from gensim.models import Word2Vec\n",
        "# from sklearn.model_selection import KFold\n",
        "from sklearn.model_selection import train_test_split,KFold\n",
        "from sklearn.linear_model import LinearRegression\n",
        "from sklearn.svm import SVR\n",
        "from sklearn import ensemble\n",
        "from sklearn.metrics import mean_squared_error\n",
        "from sklearn.metrics import explained_variance_score\n",
        "from sklearn.metrics import cohen_kappa_score\n",
        "from keras.layers import TimeDistributed\n",
        "from keras.layers import Embedding, LSTM, Dense, Dropout, Lambda, Flatten,Bidirectional\n",
        "from keras.models import Sequential, load_model, model_from_config\n",
        "import keras.backend as K"
      ]
    },
    {
      "cell_type": "code",
      "source": [
        "import csv"
      ],
      "metadata": {
        "id": "ybYP2jC3y1vB"
      },
      "execution_count": null,
      "outputs": []
    },
    {
      "cell_type": "code",
      "execution_count": null,
      "metadata": {
        "id": "MYA0agkfwbNT"
      },
      "outputs": [],
      "source": [
        "importing_dataset = pd.read_csv('https://github.com/dnyanada02/SmartGrading/blob/main/Dataset/training_set_rel3.tsv?raw=true', quoting=csv.QUOTE_NONE, sep='\\t', encoding='ISO-8859-1')\n",
        "# dependent variable\n",
        "scores = importing_dataset['domain1_score']\n",
        "dataset = importing_dataset.loc[:,['essay_id', 'essay_set', 'essay', 'domain1_score']]\n",
        "dataset.dropna()\n",
        "dataset\n",
        "\n",
        "# dataset = pd.read_csv(\"/content/training_set_rel3.tsv\",sep='\\t', encoding='ISO-8859-1',\n",
        "#                             usecols = ['essay_id', 'essay_set', 'essay','domain1_score']).dropna(axis=1)\n",
        "# scores = dataset['domain1_score']\n",
        "# dataset"
      ]
    },
    {
      "cell_type": "code",
      "source": [
        "dataset.describe()"
      ],
      "metadata": {
        "id": "YY7elZCBG_3m"
      },
      "execution_count": null,
      "outputs": []
    },
    {
      "cell_type": "code",
      "execution_count": null,
      "metadata": {
        "id": "XvQ4bmy3wbNT"
      },
      "outputs": [],
      "source": [
        "# Generating word tokens after removing characters other than alphabets, converting them to lower case and\n",
        "# removing stopwords from the text'''\n",
        "\n",
        "def word_tokens(essay_text):\n",
        "    essay_text = re.sub(\"[^a-zA-Z]\", \" \", essay_text)\n",
        "    words = essay_text.lower().split()\n",
        "    stop_words = set(stopwords.words(\"english\"))\n",
        "    words = [w for w in words if not w in stop_words]\n",
        "    return (words)"
      ]
    },
    {
      "cell_type": "code",
      "execution_count": null,
      "metadata": {
        "id": "a3SCEfWIwbNU"
      },
      "outputs": [],
      "source": [
        "# Generating sentence tokens from the essay and finally the word tokens\n",
        "\n",
        "def sentence_tokens(essay_text):\n",
        "    tokenizer = nltk.data.load('tokenizers/punkt/english.pickle')\n",
        "    sent_tokens = tokenizer.tokenize(essay_text.strip())\n",
        "    sentences = []\n",
        "    for sent_token in sent_tokens:\n",
        "        if len(sent_token) > 0:\n",
        "            sentences.append(word_tokens(sent_token))\n",
        "    return sentences"
      ]
    },
    {
      "cell_type": "code",
      "execution_count": null,
      "metadata": {
        "id": "q_qZDesiwbNV"
      },
      "outputs": [],
      "source": [
        "# Generating a vector of features\n",
        "\n",
        "def makeFeatureVec(words, model, num_features):\n",
        "    featureVec = np.zeros((num_features,),dtype=\"float32\")\n",
        "    num_words = 0.\n",
        "    index2word_set = set(model.wv.index2word)\n",
        "    for word in words:\n",
        "        if word in index2word_set:\n",
        "            num_words += 1\n",
        "            featureVec = np.add(featureVec,model[word])        \n",
        "    featureVec = np.divide(featureVec,num_words)\n",
        "    return featureVec"
      ]
    },
    {
      "cell_type": "code",
      "execution_count": null,
      "metadata": {
        "id": "A8F41_VDwbNV"
      },
      "outputs": [],
      "source": [
        "# Generating word vectors to be used in word2vec model\n",
        "\n",
        "def getAvgFeatureVecs(essays, model, num_features):\n",
        "    counter = 0\n",
        "    essayFeatureVecs = np.zeros((len(essays),num_features),dtype=\"float32\")\n",
        "    for essay_text in essays:\n",
        "        essayFeatureVecs[counter] = makeFeatureVec(essay_text, model, num_features)\n",
        "        counter = counter + 1\n",
        "    return essayFeatureVecs"
      ]
    },
    {
      "cell_type": "code",
      "execution_count": null,
      "metadata": {
        "id": "IJ4qg7gDwbNV"
      },
      "outputs": [],
      "source": [
        "# def get_model():\n",
        "#     model = Sequential()\n",
        "#     model.add(LSTM(300, dropout=0.4, recurrent_dropout=0.2, input_shape=[1, 300], return_sequences=True))\n",
        "#     model.add(LSTM(64, recurrent_dropout=0.2))\n",
        "#     model.add(Embedding(n_unique_words, 128))\n",
        "#     model.add(Bidirectional(LSTM(64)))\n",
        "#     model.add(Dropout(0.2))\n",
        "#     model.add(Dense(1, activation='relu'))\n",
        "#     model.compile(loss='mean_squared_error', optimizer='rmsprop', metrics=['mae'])\n",
        "#     model.summary()\n",
        "#     return model\n",
        "\n",
        "\n",
        "def get_model():\n",
        "    model = Sequential()\n",
        "    model.add(LSTM(300, dropout=0.4, recurrent_dropout=0.2, input_shape=[1, 300], return_sequences=True))\n",
        "    model.add(Bidirectional(LSTM(64, return_sequences=True)))\n",
        "    model.add(Bidirectional(LSTM(20, dropout=0.5)))\n",
        "    model.add(Dense(1, activation='relu'))\n",
        "    model.compile(loss='mean_squared_error', optimizer='rmsprop', metrics=['mae'])\n",
        "    model.summary()\n",
        "    return model"
      ]
    },
    {
      "cell_type": "code",
      "source": [
        "import nltk\n",
        "nltk.download('punkt')\n",
        "nltk.download('stopwords')"
      ],
      "metadata": {
        "id": "u7rZdnDK8lqv"
      },
      "execution_count": null,
      "outputs": []
    },
    {
      "cell_type": "code",
      "execution_count": null,
      "metadata": {
        "id": "2kGYVbFCwbNW"
      },
      "outputs": [],
      "source": [
        "# Applying k-fold cross validation\n",
        "\n",
        "cv = KFold(n_splits=5, shuffle=True)\n",
        "cv.get_n_splits(len(dataset))\n",
        "results = []\n",
        "y_pred_list = []\n",
        "\n",
        "count = 1\n",
        "for traincv, testcv in cv.split(dataset):\n",
        "    print(\"\\n------------Fold {}------------\\n\".format(count))\n",
        "    X_test, X_train, y_test, y_train = dataset.iloc[testcv], dataset.iloc[traincv], scores.iloc[testcv], scores.iloc[traincv]\n",
        "    \n",
        "    train_essays = X_train['essay']\n",
        "    test_essays = X_test['essay']\n",
        "    \n",
        "    sentences = []\n",
        "    \n",
        "    for essay in train_essays:\n",
        "            # Obtaining all sentences from the training set of essays.\n",
        "            sentences += sentence_tokens(essay)\n",
        "            \n",
        "    # Initializing variables for word2vec model.\n",
        "    num_features = 300 \n",
        "    min_word_count = 40\n",
        "    num_workers = 4\n",
        "    context = 10\n",
        "    downsampling = 1e-3\n",
        "\n",
        "    print(\"Training Word2Vec Model...\")\n",
        "    model = Word2Vec(sentences, workers=num_workers, size=num_features, min_count = min_word_count, window = context, sample = downsampling)\n",
        "\n",
        "    model.init_sims(replace=True)\n",
        "    model.wv.save_word2vec_format('word2vecmodel.bin', binary=True)\n",
        "\n",
        "    clean_train_essays = []\n",
        "    \n",
        "    # Generate training and testing data word vectors.\n",
        "    for essay_text in train_essays:\n",
        "        clean_train_essays.append(word_tokens(essay_text))\n",
        "    trainDataVecs = getAvgFeatureVecs(clean_train_essays, model, num_features)\n",
        "    \n",
        "    clean_test_essays = []\n",
        "    for essay_text in test_essays:\n",
        "        clean_test_essays.append(word_tokens(essay_text))\n",
        "    testDataVecs = getAvgFeatureVecs(clean_test_essays, model, num_features)\n",
        "    \n",
        "    trainDataVecs = np.array(trainDataVecs)\n",
        "    testDataVecs = np.array(testDataVecs)\n",
        "    # Reshaping train and test vectors to 3 dimensions. (1 represnts one timestep)\n",
        "    trainDataVecs = np.reshape(trainDataVecs, (trainDataVecs.shape[0], 1, trainDataVecs.shape[1]))\n",
        "    testDataVecs = np.reshape(testDataVecs, (testDataVecs.shape[0], 1, testDataVecs.shape[1]))\n",
        "    trainDataVecs = np.nan_to_num(trainDataVecs.astype(np.float32))\n",
        "    testDataVecs = np.nan_to_num(testDataVecs.astype(np.float32))\n",
        "\n",
        "    lstm_model = get_model()\n",
        "    lstm_model.fit(trainDataVecs, y_train, batch_size=64, epochs=50)\n",
        "    lstm_model.save(\"Bi_LSTM.h5\")\n",
        "    #lstm_model.load_weights('./model_weights/final_lstm.h5')\n",
        "    y_pred = lstm_model.predict(testDataVecs)\n",
        "    \n",
        "    # Round y_pred to the nearest integer.\n",
        "    y_pred = np.around(y_pred)\n",
        "    \n",
        "    '''Evaluation metric used : \n",
        "    1. Mean squared error\n",
        "    2. Variance\n",
        "    3. Cohen's kappa score\n",
        "    Expected results - Minimum error, maximum variance(For variance, best possible score is 1.0, lower \n",
        "    values are worse.) and maximum kappa score(1 depicting the best scores)'''\n",
        "    \n",
        "    # Mean squared error\n",
        "    print(\"Mean squared error: {0:.2f}\".format(mean_squared_error(y_test.values, y_pred)))\n",
        "\n",
        "    # Explained variance score: 1 is perfect prediction\n",
        "    print('Variance: {0:.2f}'.format(explained_variance_score(y_test.values, y_pred)))  \n",
        "    \n",
        "    #Cohen's kappa score\n",
        "    result = cohen_kappa_score(y_test.values,y_pred,weights='quadratic')\n",
        "    print(\"Kappa Score: {0:.2f}\".format(result))\n",
        "    results.append(result)\n",
        "\n",
        "    count += 1"
      ]
    },
    {
      "cell_type": "code",
      "execution_count": null,
      "metadata": {
        "id": "bY0sZNHCwbNX"
      },
      "outputs": [],
      "source": [
        "print(\"Average Kappa score after a 5-fold cross validation: \",np.around(np.array(results).mean(),decimals=2))"
      ]
    },
    {
      "cell_type": "markdown",
      "source": [
        "# Prediction"
      ],
      "metadata": {
        "id": "F51JYMUFJeKM"
      }
    },
    {
      "cell_type": "code",
      "execution_count": null,
      "metadata": {
        "id": "7v9Zp6wHwbNa"
      },
      "outputs": [],
      "source": [
        "# As lstm outperforms all other models, so using it for predicting the scores for the final dataset\n",
        "valid_set = pd.read_csv('https://github.com/dnyanada02/SmartGrading/blob/main/Dataset/valid_set.tsv?raw=true', sep='\\t', encoding='ISO-8859-1')"
      ]
    },
    {
      "cell_type": "code",
      "execution_count": null,
      "metadata": {
        "id": "lbWH-f0jwbNb"
      },
      "outputs": [],
      "source": [
        "valid_set = valid_set.drop(['domain2_predictionid'], axis = 1)"
      ]
    },
    {
      "cell_type": "code",
      "execution_count": null,
      "metadata": {
        "id": "DiHV6q1DwbNb"
      },
      "outputs": [],
      "source": [
        "valid_set.head()"
      ]
    },
    {
      "cell_type": "code",
      "execution_count": null,
      "metadata": {
        "id": "X1S-EJOOwbNb"
      },
      "outputs": [],
      "source": [
        "valid_test_essays = valid_set['essay']"
      ]
    },
    {
      "cell_type": "code",
      "execution_count": null,
      "metadata": {
        "id": "4tQuvATawbNc"
      },
      "outputs": [],
      "source": [
        "valid_test_essays"
      ]
    },
    {
      "cell_type": "code",
      "execution_count": null,
      "metadata": {
        "id": "wK39hbJdwbNc"
      },
      "outputs": [],
      "source": [
        "sentences = []\n",
        "    \n",
        "for valid_essay in valid_test_essays:\n",
        "        sentences += sentence_tokens(valid_essay)\n",
        "            \n",
        "num_features = 300 \n",
        "min_word_count = 40\n",
        "num_workers = 4\n",
        "context = 10\n",
        "downsampling = 1e-3\n",
        "\n",
        "print(\"Training Word2Vec Model...\")\n",
        "model = Word2Vec(sentences, workers=num_workers, size=num_features, min_count = min_word_count, window = context, sample = downsampling)\n",
        "\n",
        "model.init_sims(replace=True)\n",
        "model.wv.save_word2vec_format('word2vecmodel.bin', binary=True)\n",
        "\n",
        "valid_clean_test_essays = []\n",
        "    \n",
        "# Generate training and testing data word vectors.\n",
        "for essay_text in valid_test_essays:\n",
        "    valid_clean_test_essays.append(word_tokens(essay_text))\n",
        "valid_testDataVecs = getAvgFeatureVecs(valid_clean_test_essays, model, num_features)\n",
        "\n",
        "valid_testDataVecs = np.array(valid_testDataVecs)\n",
        "# Reshaping train and test vectors to 3 dimensions. (1 represnts one timestep)\n",
        "valid_testDataVecs = np.reshape(valid_testDataVecs, (valid_testDataVecs.shape[0], 1, valid_testDataVecs.shape[1]))\n",
        "    \n",
        "predicted_scores = lstm_model.predict(valid_testDataVecs)\n",
        "    \n",
        "# Round y_pred to the nearest integer.\n",
        "predicted_scores = np.around(predicted_scores)"
      ]
    },
    {
      "cell_type": "code",
      "execution_count": null,
      "metadata": {
        "id": "kuB3tiz2wbNc"
      },
      "outputs": [],
      "source": [
        "submission = valid_set.drop(['essay'], axis = 1)"
      ]
    },
    {
      "cell_type": "code",
      "execution_count": null,
      "metadata": {
        "id": "KlXnfkPYwbNd"
      },
      "outputs": [],
      "source": [
        "predicted_score = predicted_scores.tolist()"
      ]
    },
    {
      "cell_type": "code",
      "execution_count": null,
      "metadata": {
        "id": "p--cD_h3wbNd"
      },
      "outputs": [],
      "source": [
        "predicted_score = pd.Series([score for sublist in predicted_scores for score in sublist])"
      ]
    },
    {
      "cell_type": "code",
      "execution_count": null,
      "metadata": {
        "id": "fjipxpslwbNd"
      },
      "outputs": [],
      "source": [
        "predicted_score"
      ]
    },
    {
      "cell_type": "code",
      "execution_count": null,
      "metadata": {
        "id": "RtO50dzCwbNd"
      },
      "outputs": [],
      "source": [
        "submission = pd.concat([submission, predicted_score], axis = 1).rename(columns = {0:\"predicted_score\"}).iloc[:,[2,0,1,3]]\n",
        "submission.to_excel(\"Submission.xls\",index=False)"
      ]
    },
    {
      "cell_type": "code",
      "execution_count": null,
      "metadata": {
        "id": "qan3MwXWwbNd"
      },
      "outputs": [],
      "source": [
        "from sklearn.metrics import classification_report,confusion_matrix,cohen_kappa_score\n",
        "\n",
        "# print('training accuracy:',trainDataVecs[1]*100)\n",
        "# print('testing accuracy:',testDataVecs[1]*100)\n",
        "\n",
        "# y_pred = lstm_model.predict(testDataVecs)\n",
        "# y_pred = np.around(y_pred)\n",
        "print(classification_report(y_test.values,y_pred))\n",
        "print('Confusion matix:\\n',confusion_matrix(y_test.values,y_pred))\n",
        "print('Cohen-kappa score:',cohen_kappa_score(y_test.values,y_pred,weights='quadratic'))"
      ]
    }
  ],
  "metadata": {
    "kernelspec": {
      "display_name": "Python 3",
      "language": "python",
      "name": "python3"
    },
    "language_info": {
      "codemirror_mode": {
        "name": "ipython",
        "version": 3
      },
      "file_extension": ".py",
      "mimetype": "text/x-python",
      "name": "python",
      "nbconvert_exporter": "python",
      "pygments_lexer": "ipython3",
      "version": "3.6.5"
    },
    "colab": {
      "name": "EssayGrading_BiLSTM.ipynb",
      "provenance": [],
      "collapsed_sections": []
    },
    "accelerator": "GPU",
    "gpuClass": "standard"
  },
  "nbformat": 4,
  "nbformat_minor": 0
}